{
 "cells": [
  {
   "cell_type": "code",
   "execution_count": 1,
   "id": "03f9d096",
   "metadata": {},
   "outputs": [
    {
     "name": "stdout",
     "output_type": "stream",
     "text": [
      "Alyna 19 Lahore\n"
     ]
    }
   ],
   "source": [
    "#QUESTION NUMBER 1 \n",
    "\n",
    "class person:\n",
    "    def __init__ (self,name,age,city):\n",
    "        self.name = name\n",
    "        self.age = age \n",
    "        self.city = city \n",
    "p = person(\"Alyna\", 19 , \"Lahore\")        \n",
    "print(p.name , p.age, p.city)"
   ]
  },
  {
   "cell_type": "code",
   "execution_count": 5,
   "id": "3fcaa2b2",
   "metadata": {},
   "outputs": [
    {
     "name": "stdout",
     "output_type": "stream",
     "text": [
      "Honda Civic 2022\n"
     ]
    }
   ],
   "source": [
    "#QUESTION NUMBER 2 \n",
    "#Create a class Car with attributes make, model, and year.\n",
    "\n",
    "class Car:\n",
    "    def __init__(self,make,model,year):\n",
    "        self.make = make\n",
    "        self.model = model\n",
    "        self.year = year\n",
    "c = Car(\"Honda\", \"Civic\", 2022)\n",
    "print(c.make , c.model , c.year)"
   ]
  },
  {
   "cell_type": "code",
   "execution_count": 13,
   "id": "b5a139c8",
   "metadata": {},
   "outputs": [
    {
     "name": "stdout",
     "output_type": "stream",
     "text": [
      "Area: 153.86\n",
      "Circumference: 43.96\n"
     ]
    }
   ],
   "source": [
    "#QUESTION NUMBER 3\n",
    "#Create a class Circle with attributes radius and methods to calculate area and circumference.\n",
    "\n",
    "class Circle:\n",
    "    def __init__(self,radius):\n",
    "        self.radius = radius\n",
    "    \n",
    "    def area(self):\n",
    "        print(\"Area:\" , 3.14 * self.radius ** 2)  #by using the formula: pi r sqaure\n",
    "    \n",
    "    def circumference(self):\n",
    "        print(\"Circumference:\", 2 * 3.14 * self.radius) #by using the formula: 2 pi r\n",
    "\n",
    "Circle = Circle(7) \n",
    "Circle.area()\n",
    "Circle.circumference()\n"
   ]
  },
  {
   "cell_type": "code",
   "execution_count": 14,
   "id": "f6591a91",
   "metadata": {},
   "outputs": [
    {
     "name": "stdout",
     "output_type": "stream",
     "text": [
      "Area: 946\n",
      "Perimeter: 130\n"
     ]
    }
   ],
   "source": [
    "#QUESTION NUMBER 4\n",
    "# Create a class Rectangle with attributes length and width and methods to calculate area and perimeter.\n",
    "\n",
    "class rectangle:\n",
    "    def __init__(self,length,width):\n",
    "        self.length = length\n",
    "        self.width = width \n",
    "    def area(self):\n",
    "        print(\"Area:\", self.length * self.width)  #by using the formula lxw\n",
    "    def perimeter(self):\n",
    "        print(\"Perimeter:\", 2 * (self.length + self.width)) #by using the formula 2(l+w)\n",
    "r = rectangle(43, 22)  #declaring values\n",
    "r.area()\n",
    "r.perimeter()\n"
   ]
  },
  {
   "cell_type": "code",
   "execution_count": 19,
   "id": "c5da918f",
   "metadata": {},
   "outputs": [
    {
     "name": "stdout",
     "output_type": "stream",
     "text": [
      "Name:Alyna, Roll Number: 11 ,Average Marks: 77.2\n"
     ]
    }
   ],
   "source": [
    "#QUESTION NUMBER 5\n",
    "#Create a class Student with attributes name, roll_number, and marks. Implement a method to calculate the average marks.\n",
    "\n",
    "class student:\n",
    "    def __init__(self, name, roll_number, marks):\n",
    "        self.name = name\n",
    "        self.roll_number = roll_number\n",
    "        self.marks = marks\n",
    "        \n",
    "    def average_marks(self):\n",
    "        total = sum(self.marks)\n",
    "        avg = total / 5 \n",
    "        print(f\"Name:{self.name}, Roll Number: {self.roll_number} ,Average Marks: {avg}\")\n",
    "s = student(\"Alyna\", 11, [88,70,78,83,67])\n",
    "s.average_marks()\n"
   ]
  },
  {
   "cell_type": "code",
   "execution_count": 21,
   "id": "6491ae19",
   "metadata": {},
   "outputs": [
    {
     "name": "stdout",
     "output_type": "stream",
     "text": [
      "Title: Forty rules of love, Author: Elif Shafak, Publication Year: 2009\n"
     ]
    }
   ],
   "source": [
    "#QUESTION NUMBER 6\n",
    "#Create a class Book with attributes title, author, and publication_year.\n",
    "\n",
    "class book:\n",
    "    def __init__(self, title, author, publication_year):\n",
    "        self.title = title\n",
    "        self.author = author\n",
    "        self.publication_year = publication_year\n",
    "b = book(\"Forty rules of love\", \"Elif Shafak\",2009)\n",
    "print(f\"Title: {b.title}, Author: {b.author}, Publication Year: {b.publication_year}\")"
   ]
  },
  {
   "cell_type": "code",
   "execution_count": 23,
   "id": "3f1eb7a4",
   "metadata": {},
   "outputs": [
    {
     "name": "stdout",
     "output_type": "stream",
     "text": [
      "Name: Alyna Ayaz, Salary: 50000, Designation: Business Data Analyst\n"
     ]
    }
   ],
   "source": [
    "#QUESTION NUMBER 7\n",
    "\n",
    "\n",
    "class Employee:\n",
    "    def __init__(self, name, salary, designation):\n",
    "        self.name = name\n",
    "        self.salary = salary\n",
    "        self.designation = designation\n",
    "e = Employee(\"Alyna Ayaz\", 50000, \"Business Data Analyst\")\n",
    "print(f\"Name: {e.name}, Salary: {e.salary}, Designation: {e.designation}\")"
   ]
  },
  {
   "cell_type": "code",
   "execution_count": 24,
   "id": "b9303516",
   "metadata": {},
   "outputs": [
    {
     "name": "stdout",
     "output_type": "stream",
     "text": [
      "Deposited 420. New balance: 1420\n",
      "Withdrew 300. New balance: 1120\n"
     ]
    }
   ],
   "source": [
    "#QUESTION NUMBER 8\n",
    "\n",
    "class Bank:\n",
    "    def __init__(self, name, account_number, balance=0):\n",
    "        self.name = name\n",
    "        self.account_number = account_number\n",
    "        self.balance = balance\n",
    "\n",
    "    def deposit(self, amount):\n",
    "        self.balance += amount\n",
    "        print(f\"Deposited {amount}. New balance: {self.balance}\")\n",
    "\n",
    "    def withdraw(self, amount):\n",
    "        if amount <= self.balance:\n",
    "            self.balance -= amount\n",
    "            print(f\"Withdrew {amount}. New balance: {self.balance}\")\n",
    "        else:\n",
    "            print(\"Insufficient funds.\")\n",
    "\n",
    "account1 = Bank(\"Alia\", \"12345\", 1000)\n",
    "\n",
    "\n",
    "account1.deposit(420)\n",
    "account1.withdraw(300)"
   ]
  },
  {
   "cell_type": "code",
   "execution_count": null,
   "id": "894867c9",
   "metadata": {},
   "outputs": [],
   "source": []
  }
 ],
 "metadata": {
  "kernelspec": {
   "display_name": "Python 3 (ipykernel)",
   "language": "python",
   "name": "python3"
  },
  "language_info": {
   "codemirror_mode": {
    "name": "ipython",
    "version": 3
   },
   "file_extension": ".py",
   "mimetype": "text/x-python",
   "name": "python",
   "nbconvert_exporter": "python",
   "pygments_lexer": "ipython3",
   "version": "3.11.5"
  }
 },
 "nbformat": 4,
 "nbformat_minor": 5
}
